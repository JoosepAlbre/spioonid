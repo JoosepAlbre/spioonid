{
 "cells": [
  {
   "cell_type": "code",
   "execution_count": null,
   "id": "a3d639fe",
   "metadata": {},
   "outputs": [],
   "source": [
    "import numpy as np\n",
    "import pandas as pd\n",
    "\n",
    "from datetime import datetime\n",
    "\n",
    "from plotnine import *\n",
    "theme_set(theme_matplotlib())"
   ]
  },
  {
   "cell_type": "code",
   "execution_count": null,
   "id": "9f177fa3",
   "metadata": {},
   "outputs": [],
   "source": [
    "hommik = 21_600 / 3600  # hommikune äratus kell 06:00\n",
    "reservaeg = 60_300 / 3600  # reservaja algus kell 16:45\n",
    "esimene_päev = 197  # teenistuse esimene päev 17.07.2023"
   ]
  },
  {
   "cell_type": "code",
   "execution_count": null,
   "id": "5481e8a4",
   "metadata": {},
   "outputs": [],
   "source": [
    "df = pd.read_csv('andmed/spioonid.csv')\n",
    "\n",
    "df['kuupäev'] = df['kuupäev'].apply(lambda x: datetime.fromisoformat(x))\n",
    "df['tund'] = df['kuupäev'].apply(lambda x: (x - x.replace(hour=0, minute=0, second=0)).total_seconds() / 3600)\n",
    "df['päev'] = df['kuupäev'].apply(lambda x: x.timetuple().tm_yday - esimene_päev)\n",
    "df['päev_n'] = df.groupby('päev').cumcount()\n",
    "df['tühemik'] = df.groupby('päev')['tund'].diff().fillna(df['tund'] - hommik)\n",
    "df['tegevusaeg'] = (df['tund'] >= reservaeg).map({True: 'Vaba- ja reservaeg', False:'Muu aeg'})\n",
    "\n",
    "df.tail()"
   ]
  },
  {
   "cell_type": "code",
   "execution_count": null,
   "id": "518f0a3a",
   "metadata": {},
   "outputs": [],
   "source": [
    "g = ggplot(df) + facet_wrap('tegevusaeg', scales='free_x') + aes('tund', 'päev')\n",
    "g += theme_linedraw() + theme(panel_spacing=0.05)\n",
    "g += labs(x='Tund $(t)$', y='SBK päev')\n",
    "g += geom_point(shape='x')\n",
    "\n",
    "g.save('joonised/punktiprotsessid.png', dpi=100)\n",
    "g"
   ]
  }
 ],
 "metadata": {
  "kernelspec": {
   "display_name": "Python 3 (ipykernel)",
   "language": "python",
   "name": "python3"
  },
  "language_info": {
   "codemirror_mode": {
    "name": "ipython",
    "version": 3
   },
   "file_extension": ".py",
   "mimetype": "text/x-python",
   "name": "python",
   "nbconvert_exporter": "python",
   "pygments_lexer": "ipython3",
   "version": "3.10.9"
  }
 },
 "nbformat": 4,
 "nbformat_minor": 5
}
