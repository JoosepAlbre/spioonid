{
 "cells": [
  {
   "cell_type": "code",
   "execution_count": 1,
   "id": "a92c3e24",
   "metadata": {},
   "outputs": [],
   "source": [
    "import numpy as np\n",
    "import pandas as pd\n",
    "import scipy\n",
    "from plotnine import *\n",
    "from datetime import datetime\n",
    "from numpy import sqrt, exp, log, pi, prod"
   ]
  },
  {
   "cell_type": "markdown",
   "id": "139abfea",
   "metadata": {},
   "source": [
    "## Andmed"
   ]
  },
  {
   "cell_type": "code",
   "execution_count": 2,
   "id": "9a5907f1",
   "metadata": {},
   "outputs": [],
   "source": [
    "hommik = 21_600 / 60  # hommikune äratus kell 06:00\n",
    "reservaeg = 60_300 / 60  # reservaja algus kell 16:45\n",
    "esimene_päev = 197  # teenistuse esimene päev 17.07.2023"
   ]
  },
  {
   "cell_type": "code",
   "execution_count": 3,
   "id": "4b504649",
   "metadata": {},
   "outputs": [
    {
     "data": {
      "text/html": [
       "<div>\n",
       "<style scoped>\n",
       "    .dataframe tbody tr th:only-of-type {\n",
       "        vertical-align: middle;\n",
       "    }\n",
       "\n",
       "    .dataframe tbody tr th {\n",
       "        vertical-align: top;\n",
       "    }\n",
       "\n",
       "    .dataframe thead th {\n",
       "        text-align: right;\n",
       "    }\n",
       "</style>\n",
       "<table border=\"1\" class=\"dataframe\">\n",
       "  <thead>\n",
       "    <tr style=\"text-align: right;\">\n",
       "      <th></th>\n",
       "      <th>kuupäev</th>\n",
       "      <th>sekund</th>\n",
       "      <th>minut</th>\n",
       "      <th>päev</th>\n",
       "      <th>tegevusaeg</th>\n",
       "    </tr>\n",
       "  </thead>\n",
       "  <tbody>\n",
       "    <tr>\n",
       "      <th>71</th>\n",
       "      <td>2023-08-24 19:20:26</td>\n",
       "      <td>69626.0</td>\n",
       "      <td>1160.433333</td>\n",
       "      <td>23</td>\n",
       "      <td>Vaba- ja reservaeg</td>\n",
       "    </tr>\n",
       "    <tr>\n",
       "      <th>72</th>\n",
       "      <td>2023-08-25 06:48:11</td>\n",
       "      <td>24491.0</td>\n",
       "      <td>408.183333</td>\n",
       "      <td>24</td>\n",
       "      <td>Vaba- ja reservaeg</td>\n",
       "    </tr>\n",
       "    <tr>\n",
       "      <th>73</th>\n",
       "      <td>2023-08-25 10:59:16</td>\n",
       "      <td>39556.0</td>\n",
       "      <td>659.266667</td>\n",
       "      <td>24</td>\n",
       "      <td>Vaba- ja reservaeg</td>\n",
       "    </tr>\n",
       "    <tr>\n",
       "      <th>74</th>\n",
       "      <td>2023-08-25 14:11:37</td>\n",
       "      <td>51097.0</td>\n",
       "      <td>851.616667</td>\n",
       "      <td>24</td>\n",
       "      <td>Vaba- ja reservaeg</td>\n",
       "    </tr>\n",
       "    <tr>\n",
       "      <th>75</th>\n",
       "      <td>2023-08-25 14:46:49</td>\n",
       "      <td>53209.0</td>\n",
       "      <td>886.816667</td>\n",
       "      <td>24</td>\n",
       "      <td>Vaba- ja reservaeg</td>\n",
       "    </tr>\n",
       "  </tbody>\n",
       "</table>\n",
       "</div>"
      ],
      "text/plain": [
       "               kuupäev   sekund        minut  päev          tegevusaeg\n",
       "71 2023-08-24 19:20:26  69626.0  1160.433333    23  Vaba- ja reservaeg\n",
       "72 2023-08-25 06:48:11  24491.0   408.183333    24  Vaba- ja reservaeg\n",
       "73 2023-08-25 10:59:16  39556.0   659.266667    24  Vaba- ja reservaeg\n",
       "74 2023-08-25 14:11:37  51097.0   851.616667    24  Vaba- ja reservaeg\n",
       "75 2023-08-25 14:46:49  53209.0   886.816667    24  Vaba- ja reservaeg"
      ]
     },
     "execution_count": 3,
     "metadata": {},
     "output_type": "execute_result"
    }
   ],
   "source": [
    "spioon_df = pd.read_csv('andmed/spioonid.csv')\n",
    "\n",
    "spioon_df['kuupäev'] = spioon_df['kuupäev'].apply(lambda x: datetime.fromisoformat(x))\n",
    "spioon_df['sekund'] = spioon_df['kuupäev'].apply(lambda x: (x - x.replace(hour=0, minute=0, second=0)).total_seconds())\n",
    "spioon_df['minut'] = spioon_df['sekund'] / 60\n",
    "spioon_df['päev'] = spioon_df['kuupäev'].apply(lambda x: x.timetuple().tm_yday - esimene_päev)\n",
    "spioon_df['päev'] = spioon_df.groupby('päev').ngroup()\n",
    "# spioon_df['päev_n'] = spioon_df.groupby('päev').cumcount()\n",
    "# spioon_df['tühemik'] = spioon_df.groupby('päev')['sekund'].diff().fillna(spioon_df['sekund'] - hommik)\n",
    "spioon_df['tegevusaeg'] = (spioon_df['sekund'] >= reservaeg).map({True: 'Vaba- ja reservaeg', False:'Muu aeg'})\n",
    "\n",
    "spioon_df.tail()"
   ]
  },
  {
   "cell_type": "markdown",
   "id": "b2eb906d",
   "metadata": {},
   "source": [
    "### Intensiivsuse hinnang"
   ]
  },
  {
   "cell_type": "markdown",
   "id": "11e79317",
   "metadata": {},
   "source": [
    "#### Momentide sobitamine\n",
    "\\begin{equation}\n",
    "    \\lambda(t) = \\exp{\\left\\{ \\sum_{i = 0}^m \\theta_i t^i \\right\\}}\n",
    "\\end{equation}\n",
    "\n",
    "$\\{ c_j \\}$\n",
    "\\begin{equation}\n",
    "    \\sum_{j = 1}^n t_j^i = \\sum_{j = 0}^m c_j \\frac{T^{i + j + 1}}{i + j + 1} ,\n",
    "\\end{equation}\n",
    "$i = 0 , 1 , \\dots , m$"
   ]
  },
  {
   "cell_type": "code",
   "execution_count": 4,
   "id": "87fa9608",
   "metadata": {},
   "outputs": [
    {
     "data": {
      "text/plain": [
       "array([0.00000000e+00, 2.76548758e-09])"
      ]
     },
     "execution_count": 4,
     "metadata": {},
     "output_type": "execute_result"
    }
   ],
   "source": [
    "t = spioon_df[spioon_df['päev'] == 18]['sekund']\n",
    "T = t.max()\n",
    "n, = t.shape\n",
    "m = 1  # polünoomi järk\n",
    "\n",
    "a = np.array([[pow(T, i + j + 1) / (i + j + 1) for j in range(0, m + 1)] for i in range(0, m + 1)])\n",
    "b = np.array([sum(pow(t, i)) for i in range(0, m + 1)])\n",
    "c = np.linalg.solve(a, b)\n",
    "c = np.maximum(c, np.zeros_like(c))  # !? nii ei tohiks vist !?\n",
    "c"
   ]
  },
  {
   "cell_type": "markdown",
   "id": "f74e583d",
   "metadata": {},
   "source": [
    "$\\{ \\theta_j \\}$\n",
    "\\begin{equation}\n",
    "    \\int_0^T u^i \\log \\left( \\sum_{j = 0}^m c_j u^j \\right) du = \\sum_{j = 0}^m \\frac{\\theta_j T^{i + j + 1}}{i + j + 1} ,\n",
    "\\end{equation}\n",
    "$i = 0 , 1 , \\dots , m$"
   ]
  },
  {
   "cell_type": "code",
   "execution_count": 5,
   "id": "24957657",
   "metadata": {},
   "outputs": [
    {
     "data": {
      "text/plain": [
       "array([-1.09540208e+01,  3.89428319e-05])"
      ]
     },
     "execution_count": 5,
     "metadata": {},
     "output_type": "execute_result"
    }
   ],
   "source": [
    "f = lambda u, i: pow(u, i) * log(sum(c * pow(np.repeat(u, m + 1), np.arange(0, m + 1))))\n",
    "b = np.array([scipy.integrate.quad(f, 0, T, args=(i))[0] for i in range(0, m + 1)])\n",
    "\n",
    "deeta = np.linalg.solve(a, b)\n",
    "deeta"
   ]
  },
  {
   "cell_type": "markdown",
   "id": "55db8879",
   "metadata": {},
   "source": [
    "numbriline optimeerimine"
   ]
  },
  {
   "cell_type": "code",
   "execution_count": null,
   "id": "0410e01a",
   "metadata": {},
   "outputs": [],
   "source": []
  },
  {
   "cell_type": "markdown",
   "id": "293e8476",
   "metadata": {},
   "source": [
    "#### Esimest järku polünoom"
   ]
  },
  {
   "cell_type": "markdown",
   "id": "1c46dece",
   "metadata": {},
   "source": [
    "\\begin{equation*}\n",
    "    \\sum_{i = 1}^n \\frac{1}{\\lambda(t_i | \\boldsymbol{\\theta})} \\ln \\frac{\\partial}{\\partial \\boldsymbol{\\theta}} \\lambda(t_i | \\boldsymbol{\\theta}) = \\frac{\\partial}{\\partial \\boldsymbol{\\theta}} \\Lambda(0 , T | \\boldsymbol{\\theta}) .\n",
    "\\end{equation*}\n",
    "\n",
    "\\begin{equation*}\n",
    "    \\frac{\\partial \\ell(\\textbf{t} | n , \\theta_1)}{\\partial \\theta_1} = \n",
    "    \\begin{cases}\n",
    "        \\frac{n}{\\theta_1} + \\sum_{i = 1}^n t_i - \\frac{n T}{1 - e^{- \\theta_1 T}} &, \\theta_1 \\neq 0 \\\\\n",
    "        - \\frac{n T}{2} + \\sum_{i = 1}^n t_i &, \\theta_1 = 0\n",
    "    \\end{cases}\n",
    "\\end{equation*}\n",
    "\n",
    "\\begin{equation*}\n",
    "    \\widehat{\\theta}_0 = \\log n + \\log \\widehat{\\theta}_1 - \\log (e^{\\widehat{\\theta}_1 T} - 1)\n",
    "\\end{equation*}"
   ]
  },
  {
   "cell_type": "code",
   "execution_count": 6,
   "id": "f8c02619",
   "metadata": {},
   "outputs": [
    {
     "data": {
      "image/png": "[encoded data removed]",
      "text/plain": [
       "<Figure size 640x480 with 1 Axes>"
      ]
     },
     "metadata": {
      "image/png": {
       "height": 480,
       "width": 640
      }
     },
     "output_type": "display_data"
    },
    {
     "data": {
      "text/plain": [
       "<Figure Size: (640 x 480)>"
      ]
     },
     "execution_count": 6,
     "metadata": {},
     "output_type": "execute_result"
    }
   ],
   "source": [
    "t = spioon_df[spioon_df['päev'] == 18]['sekund']\n",
    "f = lambda theta: len(t) / theta + sum(t) - (len(t) * t.max()) / (1 - exp(-theta * t.max()))\n",
    "\n",
    "theta_1 = scipy.optimize.fsolve(f, 0.001)\n",
    "theta_0 = log(len(t)) + log(theta_1) - log(exp(theta_1 * t.max()) - 1)\n",
    "lambda_t= lambda t: np.exp(theta_1 * t + theta_0)\n",
    "\n",
    "x = np.linspace(0, t.max(), 1000)\n",
    "ggplot() + geom_line(aes('x', 'lambda_t(x)'))"
   ]
  },
  {
   "cell_type": "markdown",
   "id": "aa30b950",
   "metadata": {},
   "source": [
    "#### Kaalutud normaaljaotused\n",
    "\\begin{equation}\n",
    "    \\lambda_z(t) = \\sum_{k = 1}^K a_{z k} B_k(t) ,\n",
    "\\end{equation}\n",
    "kus\n",
    "\\begin{align}\n",
    "    B_k(t) &= \\frac{1}{\\sigma \\sqrt{2 \\pi}} \\exp \\left\\{ - \\frac{(t - \\mu_k)^2}{2 \\sigma^2} \\right\\} , \\\\\n",
    "    \\mu_k &= \\frac{(k - 1) \\tau}{K - 1} , \\qquad \\sigma_k = \\frac{\\tau}{k} .\n",
    "\\end{align}"
   ]
  },
  {
   "cell_type": "code",
   "execution_count": 7,
   "id": "13e7d660",
   "metadata": {},
   "outputs": [],
   "source": [
    "def gaussian_base(arrival: float, means: np.array, stds: np.array) -> np.array:\n",
    "    return exp(- pow(arrival - means, 2) / (2 * pow(stds, 2))) / (stds * sqrt(2 * pi))\n",
    "\n",
    "def instantenious_arrival_rate(arrival: float, weights: np.array, means: np.array, stds: np.array) -> float:\n",
    "    return sum(weights * gaussian_base(arrival, means, stds))\n",
    "\n",
    "def conditional_joint_density(arrivals: np.array, weights: np.array, tau: np.array, means: np.array, stds: np.array) -> float:\n",
    "    exponenital = exp(-scipy.integrate.quad(instantenious_arrival_rate, 0, tau, args=(weights, means, stds))[0])\n",
    "    product = prod([instantenious_arrival_rate(arrival, weights, means, stds) for arrival in arrivals])\n",
    "    return exponenital * product"
   ]
  },
  {
   "cell_type": "markdown",
   "id": "c9aab53b",
   "metadata": {},
   "source": [
    "### Expectation Maximisation\n",
    "#### Expectation step\n",
    "Antud parameetrivektori $\\theta^r$ korral\n",
    "\\begin{equation}\n",
    "    p_{iz}^r = \\frac{ e^{- \\Lambda_z (0 , \\tau) } \\prod_{j = 1}^n \\lambda_z (t_{ij}) }{ \\sum_{q = 1}^{Z} e^{- \\Lambda_q (0 , \\tau)} \\prod_{j = 1}^n \\lambda_q (t_{ij}) }\n",
    "\\end{equation}"
   ]
  },
  {
   "cell_type": "code",
   "execution_count": 16,
   "id": "fcdfb1ae",
   "metadata": {},
   "outputs": [],
   "source": [
    "K = 10  # number of gaussian variables\n",
    "m = spioon_df['päev'].nunique()  # number of event series\n",
    "Z = m - 10  # number of parent processes\n",
    "\n",
    "weights = scipy.special.softmax(np.zeros(K * Z).reshape((Z, K)))\n",
    "mixing_probabilities = scipy.special.softmax(np.zeros(Z))\n",
    "series_mixing_probabilities = scipy.special.softmax(np.zeros(m * Z).reshape((m, Z)))\n",
    "\n",
    "k = np.arange(1, K + 1)\n",
    "tau = spioon_df['minut'].max()\n",
    "stds = tau / k\n",
    "means = ((k - 1) * tau) / (K - 1)"
   ]
  },
  {
   "cell_type": "code",
   "execution_count": 17,
   "id": "32a27cb0",
   "metadata": {},
   "outputs": [],
   "source": [
    "groups = spioon_df.groupby('päev')['minut']\n",
    "for i, arrivals in groups:\n",
    "    denominator = sum(conditional_joint_density(arrivals, weights[q], tau, means, stds) for q in range(Z))\n",
    "    for z in range(Z):\n",
    "        numerator = conditional_joint_density(arrivals, weights[z], tau, means, stds)\n",
    "        series_mixing_probabilities[i][z] = numerator / denominator"
   ]
  },
  {
   "cell_type": "markdown",
   "id": "df068a03",
   "metadata": {},
   "source": [
    "#### Maximisation step\n",
    "\\begin{equation}\n",
    "    \\theta^{r + 1} = \\underset{\\theta}{\\arg \\max} \\left[ \\sum_{i = 1}^m \\sum_{z = 1}^Z p_{iz} \\ln \\left( p_z e^{- \\Lambda_z (0 , \\tau) } \\prod_{j = 1}^n \\lambda_z (t_{ij}) \\right) \\right]\n",
    "\\end{equation}\n",
    "\\begin{equation}\n",
    "    p_z^{r + 1} = \\frac{1}{n} \\sum_{i = 1}^m p_{iz}^r\n",
    "\\end{equation}"
   ]
  },
  {
   "cell_type": "code",
   "execution_count": null,
   "id": "91ce4352",
   "metadata": {},
   "outputs": [
    {
     "name": "stderr",
     "output_type": "stream",
     "text": [
      "C:\\Users\\martm\\AppData\\Local\\Temp\\ipykernel_3608\\3524783294.py:11: RuntimeWarning: invalid value encountered in log\n",
      "C:\\Users\\martm\\AppData\\Local\\Temp\\ipykernel_3608\\2478288316.py:8: RuntimeWarning: overflow encountered in exp\n"
     ]
    }
   ],
   "source": [
    "def to_maximize(theta: np.array):\n",
    "    # theta = [mixing_probabilities, ws]\n",
    "    mix_probs = theta[:Z]\n",
    "    ws = theta[Z:].reshape(weights.shape)\n",
    "    \n",
    "    summ = 0\n",
    "    \n",
    "    for i, arrivals in groups:\n",
    "        for z in range(Z):\n",
    "            product = series_mixing_probabilities[i][z] \n",
    "            product *= log(mix_probs[z] * conditional_joint_density(arrivals, ws[z], tau, means, stds))\n",
    "            summ += product\n",
    "    \n",
    "    return summ\n",
    "\n",
    "theta = scipy.optimize.minimize(lambda theta: -to_maximize(theta), np.concatenate((mixing_probabilities, weights.flatten())))\n",
    "mixing_probabilities = theta[:20]\n",
    "weights = theta[20:].reshape(weights.shape)\n",
    "\n",
    "theta"
   ]
  },
  {
   "cell_type": "code",
   "execution_count": null,
   "id": "28daf6a9",
   "metadata": {},
   "outputs": [],
   "source": [
    "mixing_probabilities = np.mean(series_mixing_probabilities, axis=0)"
   ]
  },
  {
   "cell_type": "markdown",
   "id": "4c7f963f",
   "metadata": {},
   "source": [
    "## Päevakaupa loendavad punktiprotsessid"
   ]
  },
  {
   "cell_type": "code",
   "execution_count": null,
   "id": "2590fb7a",
   "metadata": {},
   "outputs": [],
   "source": [
    "g = ggplot(spioon_df) + facet_wrap('tegevusaeg', scales='free_x') + aes('minut', 'päev')\n",
    "g += theme_linedraw() + theme(panel_spacing=0.05)\n",
    "g += labs(x='$t$', y='päev')\n",
    "g += geom_point(shape='x')\n",
    "\n",
    "# g.save('paber/spioonid_päevakaupa_eraldatud.png', dpi=100)\n",
    "g"
   ]
  },
  {
   "cell_type": "markdown",
   "id": "835b287a",
   "metadata": {},
   "source": [
    "## Astmejoonis"
   ]
  },
  {
   "cell_type": "code",
   "execution_count": null,
   "id": "dc9b4d8b",
   "metadata": {
    "scrolled": false
   },
   "outputs": [],
   "source": [
    "aste_df = spioon_df.sort_values('minut')\n",
    "aste_df['n'] = np.arange(0, aste_df.shape[0])\n",
    "\n",
    "g = ggplot(aste_df) + theme_linedraw() + aes('minut', 'n')\n",
    "g += labs(x='$t$', y='$N(t)$')\n",
    "g += geom_vline(xintercept=reservaeg, color='r')\n",
    "g += geom_step()\n",
    "\n",
    "# g.save('paber/spioonid_astmejoonis.png', dpi=100)\n",
    "g"
   ]
  }
 ],
 "metadata": {
  "kernelspec": {
   "display_name": "Python 3 (ipykernel)",
   "language": "python",
   "name": "python3"
  },
  "language_info": {
   "codemirror_mode": {
    "name": "ipython",
    "version": 3
   },
   "file_extension": ".py",
   "mimetype": "text/x-python",
   "name": "python",
   "nbconvert_exporter": "python",
   "pygments_lexer": "ipython3",
   "version": "3.11.4"
  }
 },
 "nbformat": 4,
 "nbformat_minor": 5
}
