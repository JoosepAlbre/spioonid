{
 "cells": [
  {
   "cell_type": "code",
   "execution_count": 1,
   "id": "8a660825",
   "metadata": {
    "ExecuteTime": {
     "end_time": "2023-10-29T09:23:44.045772800Z",
     "start_time": "2023-10-29T09:23:42.186143400Z"
    }
   },
   "outputs": [],
   "source": [
    "import time\n",
    "import numpy as np\n",
    "import polars as pl\n",
    "import matplotlib.pyplot as plt\n",
    "\n",
    "from scipy.stats import norm\n",
    "from scipy.special import softmax, erf\n",
    "from scipy.optimize import minimize, root"
   ]
  },
  {
   "cell_type": "markdown",
   "id": "b7a54f76",
   "metadata": {},
   "source": [
    "# Andmed\n",
    "Aasta 2023 juulist septembrini kestnud sõduri baaskursuse ajal kirja pandud spioonide ning ka mittespioonide toimumiskuupäevad ning -ajad. "
   ]
  },
  {
   "cell_type": "code",
   "execution_count": 2,
   "id": "1172376f",
   "metadata": {
    "ExecuteTime": {
     "end_time": "2023-10-29T09:23:44.061135800Z",
     "start_time": "2023-10-29T09:23:44.045772800Z"
    }
   },
   "outputs": [],
   "source": [
    "def build_df(filename: str) -> pl.DataFrame:\n",
    "    return pl.read_csv(filename, try_parse_dates=True).with_columns(\n",
    "        (pl.col('kuupäev') - pl.col('kuupäev').dt.strftime('%Y-%m-%d').str.strptime(pl.Datetime)).dt.total_minutes().alias('t') / 60,\n",
    "        pl.col('kuupäev').dt.ordinal_day().alias('m')).with_columns(\n",
    "        pl.first('m').over('m').rank('dense').alias('m') - 1\n",
    "    ).drop('kuupäev')"
   ]
  },
  {
   "cell_type": "code",
   "execution_count": 3,
   "id": "ecc75518",
   "metadata": {
    "ExecuteTime": {
     "end_time": "2023-10-29T09:23:44.123681100Z",
     "start_time": "2023-10-29T09:23:44.061135800Z"
    }
   },
   "outputs": [
    {
     "data": {
      "text/html": [
       "<div><style>\n",
       ".dataframe > thead > tr > th,\n",
       ".dataframe > tbody > tr > td {\n",
       "  text-align: right;\n",
       "  white-space: pre-wrap;\n",
       "}\n",
       "</style>\n",
       "<small>shape: (5, 2)</small><table border=\"1\" class=\"dataframe\"><thead><tr><th>t</th><th>m</th></tr><tr><td>f64</td><td>u32</td></tr></thead><tbody><tr><td>14.183333</td><td>0</td></tr><tr><td>17.5</td><td>0</td></tr><tr><td>18.533333</td><td>0</td></tr><tr><td>21.566667</td><td>0</td></tr><tr><td>22.083333</td><td>0</td></tr></tbody></table></div>"
      ],
      "text/plain": [
       "shape: (5, 2)\n",
       "┌───────────┬─────┐\n",
       "│ t         ┆ m   │\n",
       "│ ---       ┆ --- │\n",
       "│ f64       ┆ u32 │\n",
       "╞═══════════╪═════╡\n",
       "│ 14.183333 ┆ 0   │\n",
       "│ 17.5      ┆ 0   │\n",
       "│ 18.533333 ┆ 0   │\n",
       "│ 21.566667 ┆ 0   │\n",
       "│ 22.083333 ┆ 0   │\n",
       "└───────────┴─────┘"
      ]
     },
     "execution_count": 3,
     "metadata": {},
     "output_type": "execute_result"
    }
   ],
   "source": [
    "df = build_df('andmed/spioonid.csv')\n",
    "df.head()"
   ]
  },
  {
   "cell_type": "markdown",
   "id": "38e2e533",
   "metadata": {},
   "source": [
    "# Taust\n",
    "Kirjeldatud meetod põhineb [Goulding et al.](https://www.cs.nott.ac.uk/~pszgss/goulding2016event_preprint.pdf)\n",
    "\n",
    "Mittehomogeenset Poissoni protsessi kirjeldab ajast sõltuv intensiivsus $\\lambda(t)$, see on ka näide loendavast protsessist, mida on võimalik defineerida kahe ajahetke $t_1$ ning $t_2$ vaheliste sündmuste arvu esinemise tõenäosuse kaudu\n",
    "\\begin{align*}\n",
    "    &P(N(t_1, t_2) = c) = \\frac{ \\Lambda(t_1, t_2)^c}{c!} e^{- \\Lambda(t_1, t_2)} \\\\\n",
    "    \\text{kus} \\quad &\\Lambda(t_1, t_2) = \\int_{t_1}^{t_2} \\lambda(t) dt\n",
    "\\end{align*}\n",
    "Intensiivsusfunktsiooni kaudu on võimalik avaldada jaotusfunktsioon $F^s(t)$, mis kirjeldab oodatavat aega hetkest $s$ kuni uue sündmuse toimumiseni\n",
    "\\begin{equation*}\n",
    "    F^s(t) = 1 - e^{\\Lambda(s, s + t)}\n",
    "\\end{equation*}\n",
    "Jaotusfunktsiooni on võimalik kasutada ennustamiseks, lisaks on selle põhjal võimalik leida sündmusrea $\\textbf{t}_i = \\langle t_{i0} , t_{i1} , \\dots , t_{ij} \\rangle$ ühisjaotuse tihedus $f(\\textbf{t}_i)$, mis kirjeldab tõenäosust, et rida pärineb sellelt protsessilt.\n",
    "\\begin{equation*}\n",
    "    f(\\textbf{t}_i | \\tau) = e^{- \\Lambda (0 , \\tau) } \\prod_{j = 1}^n \\lambda (t_{ij})\n",
    "\\end{equation*}\n",
    "kus $\\tau$ tähistab protsessi indekshulga vähimat ülemist tõket."
   ]
  },
  {
   "cell_type": "markdown",
   "id": "71e26d19",
   "metadata": {},
   "source": [
    "# Mudel\n",
    "Formaalselt võib eelnevat andmestikku kirjeldada sündmusridade hulgana $\\mathcal{T} = \\{ \\textbf{t}_1 , \\textbf{t}_2 , \\dots , \\textbf{t}_m \\}$, mille realisatsioonid $\\textbf{t}_i = \\langle t_{i0} , t_{i1} , \\dots , t_{ij} \\rangle$ pärinevalt mingilt mittehomogeense Poissoni liitprotsessi alamprotsessilt.\n",
    "\n",
    "Andmestikku modelleerime $Z$ alamprotsessist koosneva MHPP liitprotsessina, mille alamprotsesside intesiivsused on $K$ kaalutud normaaljaotustiheduste summad \n",
    "\\begin{align*}\n",
    "    &\\lambda_z(t) = \\sum_{k = 1}^K a_{z k} B_k(t) \\\\\n",
    "    \\text{kus} \\quad &B_k(t) = \\frac{1}{\\sigma_k \\sqrt{2 \\pi}} \\exp \\left( - \\frac{(t - \\mu_k)^2}{2 \\sigma_k^2} \\right) \\\\\n",
    "    \\text{ning} \\quad &\\mu_k = \\frac{(k - 1) \\tau}{K - 1} , \\qquad \\sigma_k = \\frac{\\tau}{k} \n",
    "\\end{align*}"
   ]
  },
  {
   "cell_type": "code",
   "execution_count": 4,
   "id": "d97f1168",
   "metadata": {
    "ExecuteTime": {
     "end_time": "2023-10-29T09:23:44.186138500Z",
     "start_time": "2023-10-29T09:23:44.123681100Z"
    }
   },
   "outputs": [],
   "source": [
    "def rate(t, weights, locs, scales):\n",
    "    return np.sum(weights * norm.pdf(t, loc=locs, scale=scales))\n",
    "\n",
    "\n",
    "def joint_pdf(t_vec, weights, locs, scales):\n",
    "    rate_cdf = -np.sum(weights * norm.cdf(24, loc=locs, scale=scales))\n",
    "    rates_t = [rate(t, weights, locs, scales) for t in t_vec]\n",
    "    return np.exp(rate_cdf) * np.prod(rates_t)"
   ]
  },
  {
   "cell_type": "markdown",
   "id": "a71a0728",
   "metadata": {},
   "source": [
    "## Parameetrite sobitamine\n",
    "Toodud ehitusklotside põhjal taandub mudeli loomine kaalude $a_{zk}$ leidmisele. Kaalude leidmiseks vaatame parameetrite suhtes mudeli tõepära funktsiooni. Igale alamprotsessile $N_z(t)$ seame vastavusse segandumis tõenäosuse $p_z$, mis kirjedab võimalust, et mingi sündmusterida hulgas $\\mathcal{T}$ pärineb sellelt alamprotsessilt. Eelnevast lähtudes on kogu mudeli tõepära funktsioon\n",
    "\\begin{equation*}\n",
    "    \\mathcal{L}(\\theta | \\mathcal{T}) = \\prod_{i = 1}^m \\sum_{z = 1}^Z p_z f_z(\\textbf{t}_i | \\tau)\n",
    "\\end{equation*}\n",
    "kus $\\theta = \\langle \\lambda_1 , \\lambda_2 , \\dots , \\lambda_Z \\rangle$.\n",
    "Järgnevalt leiame mudeli kaalud iteratiivselt, kasuted EM (expectation maximization) meetodit. Alustades algsete parameetritega $\\theta^0$ (siin tähistame $r$-indat iteratsioonisammu kujul $\\theta^r$)."
   ]
  },
  {
   "cell_type": "code",
   "execution_count": 5,
   "id": "91532c94",
   "metadata": {
    "ExecuteTime": {
     "end_time": "2023-10-29T09:23:44.186138500Z",
     "start_time": "2023-10-29T09:23:44.139263900Z"
    }
   },
   "outputs": [],
   "source": [
    "def log_likelihood(event_series, weights, locs, scales, mix_probs, orig_probs):    \n",
    "    ll = 0\n",
    "    for i, z in np.ndindex(orig_probs.shape):\n",
    "        t_vec = event_series[i]\n",
    "        ll += orig_probs[(i, z)] * np.log(mix_probs[z] * joint_pdf(t_vec, weights[z], locs, scales))\n",
    "    \n",
    "    return ll"
   ]
  },
  {
   "cell_type": "markdown",
   "id": "2ec8dc93",
   "metadata": {},
   "source": [
    "### Ooteväärtuse samm\n",
    "Antud parameetrivektori $\\theta^r$ korral leiame iga alamprotsessi jaoks tõenäosused, et sündmuste rida $\\textbf{t}_i$ pärineb sellelt alamprotsessilt\n",
    "\\begin{equation*}\n",
    "    p_{iz}^r = \\frac{ e^{- \\Lambda_z (0 , \\tau) } \\prod_{j = 1}^n \\lambda_z (t_{ij}) }{ \\sum_{q = 1}^{Z} e^{- \\Lambda_q (0 , \\tau)} \\prod_{j = 1}^n \\lambda_q (t_{ij}) }\n",
    "\\end{equation*}"
   ]
  },
  {
   "cell_type": "code",
   "execution_count": 6,
   "id": "3bf205a7",
   "metadata": {
    "ExecuteTime": {
     "end_time": "2023-10-29T09:23:44.264304100Z",
     "start_time": "2023-10-29T09:23:44.154886Z"
    }
   },
   "outputs": [],
   "source": [
    "def expectation_step(event_series, weights, locs, scales, orig_probs):\n",
    "    for i, z in np.ndindex(orig_probs.shape):\n",
    "        t_vec = event_series[i]\n",
    "        joint_densities = [joint_pdf(t_vec, w_vec, locs, scales) for w_vec in weights]\n",
    "        \n",
    "        orig_probs[(i, z)] = joint_densities[z] / np.sum(joint_densities)\n",
    "    \n",
    "    return orig_probs"
   ]
  },
  {
   "cell_type": "markdown",
   "id": "388da3c1",
   "metadata": {},
   "source": [
    "### Maksimeerimise samm\n",
    "Saadud pärinemistõenäosustega leiame uued parameetrite lähendid $\\theta^{r + 1}$ suurima logaritm tõepära meetodil\n",
    "\\begin{equation*}\n",
    "    \\theta^{r + 1} = \\underset{\\theta}{\\arg \\max} \\left[ \\sum_{i = 1}^m \\sum_{z = 1}^Z p_{iz} \\ln \\left( p_z e^{- \\Lambda_z (0 , \\tau) } \\prod_{j = 1}^n \\lambda_z (t_{ij}) \\right) \\right]\n",
    "\\end{equation*}\n",
    "paramaeetrid leiame numbriliselt.\n",
    "\n",
    "Järgmised hinnangud segandumistõenäosustele leiame lihtsa aritmeetilise keskmisena pärinemistõenäosustest\n",
    "\\begin{equation*}\n",
    "    p_z^{r + 1} = \\frac{1}{n} \\sum_{i = 1}^m p_{iz}^r\n",
    "\\end{equation*}"
   ]
  },
  {
   "cell_type": "code",
   "execution_count": 7,
   "id": "9cb1d918",
   "metadata": {
    "ExecuteTime": {
     "end_time": "2023-10-29T09:23:44.264304100Z",
     "start_time": "2023-10-29T09:23:44.170512200Z"
    }
   },
   "outputs": [],
   "source": [
    "def maximisation_step(event_series, weights, locs, scales, mix_probs, orig_probs):    \n",
    "    def _ll(_theta):\n",
    "        return -log_likelihood(event_series, _theta.reshape(weights.shape), locs, scales, mix_probs, orig_probs)\n",
    "\n",
    "    theta = weights.flatten()\n",
    "    bounds = ((1e-5, np.inf) for _ in theta)\n",
    "    optimize_result = minimize(_ll, theta, bounds=bounds)\n",
    "    \n",
    "    weights = optimize_result['x'].reshape(weights.shape)\n",
    "    mix_probs = orig_probs.mean(axis=0)\n",
    "    \n",
    "    return weights, mix_probs, optimize_result"
   ]
  },
  {
   "cell_type": "markdown",
   "id": "dbd617ca",
   "metadata": {},
   "source": [
    "EM meetodi iteratsioonisamme kordame kuni kindla sammude arvuni. Mudeli sobitamiseks kasutame olekut talletavat abiklassi."
   ]
  },
  {
   "cell_type": "code",
   "execution_count": 8,
   "id": "33717e26-263e-417b-81ed-9519fa554a23",
   "metadata": {},
   "outputs": [],
   "source": [
    "class State:\n",
    "    def __init__(self, data: pl.DataFrame, n_base: int, n_process: int):\n",
    "        self.event_series = data.group_by('m').all().sort(pl.col('m'))['t'].to_numpy()\n",
    "\n",
    "        self.n_series = self.event_series.shape[0]\n",
    "        self.n_base = n_base\n",
    "        self.n_process = n_process\n",
    "        \n",
    "        __k = np.arange(1, self.n_base + 1)\n",
    "        self.locs = ((__k - 1) * 24) / (self.n_base - 1)\n",
    "        self.scales = 24 / __k\n",
    "        \n",
    "        self.__prev_weights = np.clip(norm.rvs(loc=1, scale=1, size=(self.n_process, self.n_base)), 1e-5, 10)\n",
    "        self.weights = self.__prev_weights\n",
    "        self.orig_probs = softmax(np.zeros((self.n_series, self.n_process), dtype=np.longdouble))\n",
    "        self.mix_probs = np.mean(self.orig_probs, axis=0)\n",
    "        \n",
    "        self.__iterations = 0\n",
    "\n",
    "\n",
    "    def fit(self, iterations: int, verbose=False):\n",
    "        while iterations > 0:\n",
    "            iterations -= 1\n",
    "            self.__iterations += 1\n",
    "            self.__it(verbose=verbose)\n",
    "            \n",
    "\n",
    "    \n",
    "    def __it(self, verbose=False):\n",
    "        self.__prev_weights = self.weights\n",
    "\n",
    "        e_start = time.time()\n",
    "        self.orig_probs = expectation_step(self.event_series, \n",
    "                                           self.__prev_weights, \n",
    "                                           self.locs, \n",
    "                                           self.scales, \n",
    "                                           self.orig_probs)\n",
    "        e_time = time.time() - e_start\n",
    "\n",
    "        m_start = time.time()\n",
    "        self.weights, self.mix_probs, _ = maximisation_step(self.event_series, \n",
    "                                                            self.__prev_weights, \n",
    "                                                            self.locs, \n",
    "                                                            self.scales, \n",
    "                                                            self.mix_probs, \n",
    "                                                            self.orig_probs)\n",
    "        m_time = time.time() - m_start\n",
    "        \n",
    "        if verbose:\n",
    "            diff = self.weights - self.__prev_weights\n",
    "            diff_norm = np.linalg.norm(diff, ord=np.inf)\n",
    "            print(f'| iteration={self.__iterations} \\t| diff={diff_norm:.4f} \\t| E={e_time:.4f}s \\t| M={m_time:.4f}s \\t|')\n",
    "\n",
    "\n",
    "model_state = State(df, 50, 5)"
   ]
  },
  {
   "cell_type": "code",
   "execution_count": 9,
   "id": "92319654-b55b-4517-b0f2-9dd089e0c9ec",
   "metadata": {},
   "outputs": [
    {
     "name": "stdout",
     "output_type": "stream",
     "text": [
      "| iteration=1 \t| diff=49.0112 \t| E=0.3194s \t| M=769.4165s \t|\n",
      "| iteration=2 \t| diff=5.3746 \t| E=0.3118s \t| M=815.5048s \t|\n",
      "| iteration=3 \t| diff=2.4783 \t| E=0.2629s \t| M=768.0805s \t|\n",
      "| iteration=4 \t| diff=1.6611 \t| E=0.2554s \t| M=768.9745s \t|\n",
      "| iteration=5 \t| diff=0.6205 \t| E=0.2601s \t| M=770.9301s \t|\n"
     ]
    }
   ],
   "source": [
    "model_state.fit(5, verbose=True)"
   ]
  },
  {
   "cell_type": "markdown",
   "id": "41af4feb-2e2f-4ec1-a7e9-fada67f35825",
   "metadata": {},
   "source": [
    "### Mudel visuaalselt"
   ]
  },
  {
   "cell_type": "code",
   "execution_count": 10,
   "id": "8b4ce5bd",
   "metadata": {
    "ExecuteTime": {
     "end_time": "2023-10-29T10:46:34.405393800Z",
     "start_time": "2023-10-29T10:46:33.533515300Z"
    }
   },
   "outputs": [
    {
     "data": {
      "image/png": "[encoded data removed]",
      "text/plain": [
       "<Figure size 640x480 with 1 Axes>"
      ]
     },
     "metadata": {},
     "output_type": "display_data"
    }
   ],
   "source": [
    "fig = plt.figure()\n",
    "ax = fig.add_subplot(projection='3d')\n",
    "\n",
    "for sub_process in range(model_state.n_process):\n",
    "    ts = np.linspace(0, 24, 500)\n",
    "    sub_process_rate = [rate(t, model_state.weights[sub_process], model_state.locs, model_state.scales) for t in ts]\n",
    "    \n",
    "    ax.plot(ts, sub_process_rate, zs=sub_process, zdir='x', color='b', alpha=0.8)\n",
    "\n",
    "ax.set_xlabel('Alamprotsess $(z)$')\n",
    "ax.set_ylabel('Tund $(t)$')\n",
    "ax.set_zlabel('Intensiivsus $(\\\\lambda_z)$')\n",
    "\n",
    "fig.savefig(f'joonised/z-{model_state.n_process}_k-{model_state.n_base}.png', dpi=100)"
   ]
  },
  {
   "cell_type": "markdown",
   "id": "ae3119ef",
   "metadata": {},
   "source": [
    "## Mudeli kasutamine\n",
    "Ennustamaks järgmise sündmuse toimumishetke sündmusreas $\\textbf{t}$, peame kõigepealt nimetatud sündmusrea seostama mudeli mingi alamprotsessiga. Soovitud alamprotsessi $z$ valime suurima tõepära meetodiga\n",
    "\\begin{equation*}\n",
    "    z = \\underset{z \\in \\{ 1 , 2 , \\dots , Z \\} }{\\arg \\max} f_z(\\textbf{t} | \\tau)\n",
    "\\end{equation*}"
   ]
  },
  {
   "cell_type": "code",
   "execution_count": 11,
   "id": "1fd6f290",
   "metadata": {
    "ExecuteTime": {
     "end_time": "2023-10-29T10:46:47.657425100Z",
     "start_time": "2023-10-29T10:46:47.547921200Z"
    }
   },
   "outputs": [],
   "source": [
    "test_df = build_df('andmed/spioonid_kunstlik.csv')\n",
    "test_times = test_df.group_by('m').all().sort(pl.col('m'))['t'].to_numpy()[5]\n",
    "\n",
    "sub_process = np.argmax([joint_pdf(test_times, \n",
    "                                   model_state.weights[sub_process], \n",
    "                                   model_state.locs, \n",
    "                                   model_state.scales) for sub_process in range(model_state.n_process)])"
   ]
  },
  {
   "cell_type": "markdown",
   "id": "9dd36b4f",
   "metadata": {},
   "source": [
    "### Aeg järgmise sündmuseni\n",
    "Kui oleme leidnud võimalik sündmusrea tootnud alamprotsessi, ennustame aega järgmise sündmuse toimumiseni $\\eta$ alamprotsessi jaotuse mediaanina\n",
    "\\begin{align*}\n",
    "    F_z^s(\\eta) = 1 - e^{\\Lambda_z(s , s + \\eta)} &= \\frac{1}{2} \\\\\n",
    "    \\Lambda_z(s , s + \\eta) - \\ln 2 &= 0\n",
    "\\end{align*}\n",
    "\n",
    "Tehes asendused ning integreerimse jõuame võrrandini\n",
    "\\begin{equation*}\n",
    "    \\sum_{k = 1}^K \\frac{a_{zk}}{2} \\left[ \\text{erf} \\left( \\frac{s + \\eta - \\mu_k}{\\sqrt{2} \\sigma_k} \\right) - \\text{erf} \\left( \\frac{s - \\mu_k}{\\sqrt{2} \\sigma_k} \\right) \\right] - \\ln 2 = 0\n",
    "\\end{equation*}\n",
    "Kuna kõik muutujad peale $\\eta$ on teada, saame lähendi leida kiiresti kasutades numbrilisi meetodeid."
   ]
  },
  {
   "cell_type": "code",
   "execution_count": 12,
   "id": "9c6694e6",
   "metadata": {
    "ExecuteTime": {
     "end_time": "2023-10-29T10:46:51.248830Z",
     "start_time": "2023-10-29T10:46:51.170640700Z"
    }
   },
   "outputs": [],
   "source": [
    "def cdf_expression(eta, from_t, process_weights, locs, scales, quantile=0.5):\n",
    "    q_log = np.log(1 / quantile)\n",
    "    scaled_weights = process_weights / 2\n",
    "    numerator = from_t - locs\n",
    "    denominator = np.sqrt(2) * scales\n",
    "    return np.sum(scaled_weights * (erf((numerator + eta) / denominator) - erf(numerator / denominator))) - q_log"
   ]
  },
  {
   "cell_type": "code",
   "execution_count": 13,
   "id": "c9b23dff",
   "metadata": {
    "ExecuteTime": {
     "end_time": "2023-10-29T10:46:52.652473800Z",
     "start_time": "2023-10-29T10:46:52.543063100Z"
    }
   },
   "outputs": [
    {
     "name": "stdout",
     "output_type": "stream",
     "text": [
      "praegune aeg: 16.5h\n",
      "ennustatud ooteaeg: 1.94h\n"
     ]
    }
   ],
   "source": [
    "from_time = 16.5\n",
    "args = (from_time, model_state.weights[sub_process], model_state.locs, model_state.scales)\n",
    "root_result = root(cdf_expression, 0, args=args)\n",
    "wait_time = root_result['x'][0]\n",
    "\n",
    "print(f'praegune aeg: {from_time}h\\nennustatud ooteaeg: {wait_time:.2f}h')"
   ]
  }
 ],
 "metadata": {
  "kernelspec": {
   "display_name": "Python 3 (ipykernel)",
   "language": "python",
   "name": "python3"
  },
  "language_info": {
   "codemirror_mode": {
    "name": "ipython",
    "version": 3
   },
   "file_extension": ".py",
   "mimetype": "text/x-python",
   "name": "python",
   "nbconvert_exporter": "python",
   "pygments_lexer": "ipython3",
   "version": "3.10.12"
  }
 },
 "nbformat": 4,
 "nbformat_minor": 5
}
