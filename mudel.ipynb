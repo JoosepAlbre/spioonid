{
 "cells": [
  {
   "cell_type": "code",
   "execution_count": 1,
   "id": "8a660825",
   "metadata": {
    "ExecuteTime": {
     "end_time": "2023-10-29T09:23:44.045772800Z",
     "start_time": "2023-10-29T09:23:42.186143400Z"
    }
   },
   "outputs": [],
   "source": [
    "import numpy as np\n",
    "import polars as pl\n",
    "import matplotlib.pyplot as plt\n",
    "\n",
    "from scipy.stats import norm, uniform\n",
    "from scipy.special import softmax, erf\n",
    "from scipy.optimize import minimize, root"
   ]
  },
  {
   "cell_type": "markdown",
   "id": "b7a54f76",
   "metadata": {},
   "source": [
    "# Andmed\n",
    "Aasta 2023 juulist septembrini kestnud sõduri baaskursuse ajal kirja pandud spioonide ning ka mittespioonide toimumiskuupäevad ning -ajad. "
   ]
  },
  {
   "cell_type": "code",
   "execution_count": 2,
   "id": "1172376f",
   "metadata": {
    "ExecuteTime": {
     "end_time": "2023-10-29T09:23:44.061135800Z",
     "start_time": "2023-10-29T09:23:44.045772800Z"
    }
   },
   "outputs": [],
   "source": [
    "def build_df(filename: str) -> pl.DataFrame:\n",
    "    return pl.read_csv(filename, try_parse_dates=True).with_columns(\n",
    "        (pl.col('kuupäev') - pl.col('kuupäev').dt.strftime('%Y-%m-%d').str.strptime(pl.Datetime)).dt.total_minutes().alias('t'),\n",
    "        pl.col('kuupäev').dt.ordinal_day().alias('m')).with_columns(\n",
    "        pl.first('m').over('m').rank('dense').alias('m') - 1\n",
    "    ).drop('kuupäev')"
   ]
  },
  {
   "cell_type": "code",
   "execution_count": 3,
   "id": "ecc75518",
   "metadata": {
    "ExecuteTime": {
     "end_time": "2023-10-29T09:23:44.123681100Z",
     "start_time": "2023-10-29T09:23:44.061135800Z"
    }
   },
   "outputs": [
    {
     "data": {
      "text/html": [
       "<div><style>\n",
       ".dataframe > thead > tr > th,\n",
       ".dataframe > tbody > tr > td {\n",
       "  text-align: right;\n",
       "  white-space: pre-wrap;\n",
       "}\n",
       "</style>\n",
       "<small>shape: (5, 2)</small><table border=\"1\" class=\"dataframe\"><thead><tr><th>t</th><th>m</th></tr><tr><td>i64</td><td>u32</td></tr></thead><tbody><tr><td>851</td><td>0</td></tr><tr><td>1050</td><td>0</td></tr><tr><td>1112</td><td>0</td></tr><tr><td>1294</td><td>0</td></tr><tr><td>1325</td><td>0</td></tr></tbody></table></div>"
      ],
      "text/plain": [
       "shape: (5, 2)\n",
       "┌──────┬─────┐\n",
       "│ t    ┆ m   │\n",
       "│ ---  ┆ --- │\n",
       "│ i64  ┆ u32 │\n",
       "╞══════╪═════╡\n",
       "│ 851  ┆ 0   │\n",
       "│ 1050 ┆ 0   │\n",
       "│ 1112 ┆ 0   │\n",
       "│ 1294 ┆ 0   │\n",
       "│ 1325 ┆ 0   │\n",
       "└──────┴─────┘"
      ]
     },
     "execution_count": 3,
     "metadata": {},
     "output_type": "execute_result"
    }
   ],
   "source": [
    "df = build_df('andmed/spioonid.csv')\n",
    "df.head()"
   ]
  },
  {
   "cell_type": "markdown",
   "id": "38e2e533",
   "metadata": {},
   "source": [
    "# Taust\n",
    "Kirjeldatud meetod põhineb täielikult [Goulding et al.](https://www.cs.nott.ac.uk/~pszgss/goulding2016event_preprint.pdf)\n",
    "\n",
    "Mittehomogeenset Poissoni protsessi kirjeldab ajast sõltuv intensiivsus $\\lambda(t)$, see on ka näide loendavast protsessist, mida on võimalik defineerida kahe ajahetke $t_1$ ning $t_2$ vaheliste sündmuste arvu esinemise tõenäosuse kaudu\n",
    "\\begin{align*}\n",
    "    &P(N(t_1, t_2) = c) = \\frac{ \\Lambda(t_1, t_2)^c}{c!} e^{- \\Lambda(t_1, t_2)} \\\\\n",
    "    \\text{kus} \\quad &\\Lambda(t_1, t_2) = \\int_{t_1}^{t_2} \\lambda(t) dt\n",
    "\\end{align*}\n",
    "Intensiivsusfunktsiooni kaudu on võimalik avaldada jaotusfunktsioon $F^s(t)$, mis kirjeldab oodatavat aega hetkest $s$ kuni uue sündmuse toimumiseni\n",
    "\\begin{equation*}\n",
    "    F^s(t) = 1 - e^{\\Lambda(s, s + t)}\n",
    "\\end{equation*}\n",
    "Jaotusfunktsiooni on võimalik kasutada ennustamiseks, lisaks on selle põhjal võimalik leida sündmusrea $\\textbf{t}_i = \\langle t_{i0} , t_{i1} , \\dots , t_{ij} \\rangle$ ühisjaotuse tihedus $f(\\textbf{t}_i)$, mis kirjeldab tõenäosust, et rida pärineb sellelt protsessilt.\n",
    "\\begin{equation*}\n",
    "    f(\\textbf{t}_i | \\tau) = e^{- \\Lambda (0 , \\tau) } \\prod_{j = 1}^n \\lambda (t_{ij})\n",
    "\\end{equation*}\n",
    "kus $\\tau$ tähistab protsessi indekshulga vähimat ülemist tõket."
   ]
  },
  {
   "cell_type": "markdown",
   "id": "71e26d19",
   "metadata": {},
   "source": [
    "# Mudel\n",
    "Formaalselt võib eelnevat andmestikku kirjeldada sündmusridade hulgana $\\mathcal{T} = \\{ \\textbf{t}_1 , \\textbf{t}_2 , \\dots , \\textbf{t}_m \\}$, mille realisatsioonid $\\textbf{t}_i = \\langle t_{i0} , t_{i1} , \\dots , t_{ij} \\rangle$ pärinevalt mingilt mittehomogeense Poissoni liitprotsessi alamprotsessilt.\n",
    "\n",
    "Andmestikku modelleerime $Z$ alamprotsessist koosneva MHPP liitprotsessina, mille alamprotsesside intesiivsused on $K$ kaalutud normaaljaotustiheduste summad \n",
    "\\begin{align*}\n",
    "    &\\lambda_z(t) = \\sum_{k = 1}^K a_{z k} B_k(t) \\\\\n",
    "    \\text{kus} \\quad &B_k(t) = \\frac{1}{\\sigma_k \\sqrt{2 \\pi}} \\exp \\left( - \\frac{(t - \\mu_k)^2}{2 \\sigma_k^2} \\right) \\\\\n",
    "    \\text{ning} \\quad &\\mu_k = \\frac{(k - 1) \\tau}{K - 1} , \\qquad \\sigma_k = \\frac{\\tau}{k} \n",
    "\\end{align*}"
   ]
  },
  {
   "cell_type": "code",
   "execution_count": 4,
   "id": "e6f78219",
   "metadata": {
    "ExecuteTime": {
     "end_time": "2023-10-29T09:23:44.123681100Z",
     "start_time": "2023-10-29T09:23:44.108059900Z"
    }
   },
   "outputs": [],
   "source": [
    "n_bases = 20  # K\n",
    "n_series = df['m'].n_unique()  # m\n",
    "n_processes = 5  # Z\n",
    "\n",
    "k = np.arange(1, n_bases + 1)\n",
    "tau = df['t'].max()\n",
    "locs = ((k - 1) * tau) / (n_bases - 1)\n",
    "scales = tau / k\n",
    "\n",
    "loc_kwargs = {'loc': locs, \n",
    "              'scale': scales}"
   ]
  },
  {
   "cell_type": "code",
   "execution_count": 5,
   "id": "d97f1168",
   "metadata": {
    "ExecuteTime": {
     "end_time": "2023-10-29T09:23:44.186138500Z",
     "start_time": "2023-10-29T09:23:44.123681100Z"
    }
   },
   "outputs": [],
   "source": [
    "def rate(x, weights):\n",
    "    return np.sum(weights * norm.pdf(x, **loc_kwargs))\n",
    "\n",
    "\n",
    "def joint_pdf(xs, weights):\n",
    "    integral = np.sum(weights * norm.cdf(tau, **loc_kwargs))\n",
    "    return np.exp(-integral) * np.prod([rate(x, weights) for x in xs])"
   ]
  },
  {
   "cell_type": "markdown",
   "id": "a71a0728",
   "metadata": {},
   "source": [
    "## Parameetrite sobitamine\n",
    "Toodud ehitusklotside põhjal taandub mudeli loomine kaalude $a_{zk}$ leidmisele. Kaalude leidmiseks vaatame parameetrite suhtes mudeli tõepära funktsiooni. Igale alamprotsessile $N_z(t)$ seame vastavusse segandumis tõenäosuse $p_z$, mis kirjedab võimalust, et mingi sündmusterida hulgas $\\mathcal{T}$ pärineb sellelt alamprotsessilt. Eelnevast lähtudes on kogu mudeli tõepära funktsioon\n",
    "\\begin{equation*}\n",
    "    \\mathcal{L}(\\theta | \\mathcal{T}) = \\prod_{i = 1}^m \\sum_{z = 1}^Z p_z f_z(\\textbf{t}_i | \\tau)\n",
    "\\end{equation*}\n",
    "kus $\\theta = \\langle \\lambda_1 , \\lambda_2 , \\dots , \\lambda_Z \\rangle$.\n",
    "Järgnevalt leiame mudeli kaalud iteratiivselt, kasuted EM (expectation maximization) meetodit. Alustades algsete parameetritega $\\theta^0$ (siin tähistame $r$-indat iteratsioonisammu kujul $\\theta^r$)."
   ]
  },
  {
   "cell_type": "code",
   "execution_count": 6,
   "id": "91532c94",
   "metadata": {
    "ExecuteTime": {
     "end_time": "2023-10-29T09:23:44.186138500Z",
     "start_time": "2023-10-29T09:23:44.139263900Z"
    }
   },
   "outputs": [],
   "source": [
    "def negative_log_likelihood(weights, weights_shape, mix_probs, orig_probs, orig_probs_shape, data: pl.DataFrame):\n",
    "    weights = weights.reshape(weights_shape)\n",
    "    gp = data.group_by('m').all()\n",
    "    \n",
    "    likelihood = 0\n",
    "    for i, z in np.ndindex(orig_probs_shape):\n",
    "        t_vec = gp.row(by_predicate=(pl.col('m') == i))[1]\n",
    "        likelihood += orig_probs[(i, z)] * np.log(mix_probs[z] * joint_pdf(t_vec, weights[z]))\n",
    "    \n",
    "    return -likelihood  # negate for maximization using `scipy.optimize.minimize`"
   ]
  },
  {
   "cell_type": "markdown",
   "id": "2ec8dc93",
   "metadata": {},
   "source": [
    "### Ooteväärtuse samm\n",
    "Antud parameetrivektori $\\theta^r$ korral leiame iga alamprotsessi jaoks tõenäosused, et sündmuste rida $\\textbf{t}_i$ pärineb sellelt alamprotsessilt\n",
    "\\begin{equation*}\n",
    "    p_{iz}^r = \\frac{ e^{- \\Lambda_z (0 , \\tau) } \\prod_{j = 1}^n \\lambda_z (t_{ij}) }{ \\sum_{q = 1}^{Z} e^{- \\Lambda_q (0 , \\tau)} \\prod_{j = 1}^n \\lambda_q (t_{ij}) }\n",
    "\\end{equation*}"
   ]
  },
  {
   "cell_type": "code",
   "execution_count": 7,
   "id": "3bf205a7",
   "metadata": {
    "ExecuteTime": {
     "end_time": "2023-10-29T09:23:44.264304100Z",
     "start_time": "2023-10-29T09:23:44.154886Z"
    }
   },
   "outputs": [],
   "source": [
    "def expectation_step(data, orig_probs_shape, weights):\n",
    "    orig_probs = np.zeros(orig_probs_shape)\n",
    "    gp = data.group_by('m').all()\n",
    "    \n",
    "    for i, z in np.ndindex(orig_probs_shape):\n",
    "        t_vec = gp.row(by_predicate=(pl.col('m') == i))[1]\n",
    "        \n",
    "        numerator = joint_pdf(t_vec, weights[z])\n",
    "        denominator = np.sum([joint_pdf(t_vec, weights[q]) for q in range(n_processes)])\n",
    "        \n",
    "        orig_probs[(i, z)] = numerator / denominator\n",
    "    \n",
    "    return orig_probs"
   ]
  },
  {
   "cell_type": "markdown",
   "id": "388da3c1",
   "metadata": {},
   "source": [
    "### Maksimeerimise samm\n",
    "Saadud pärinemistõenäosustega leiame uued parameetrite lähendid $\\theta^{r + 1}$ suurima logaritm tõepära meetodil\n",
    "\\begin{equation*}\n",
    "    \\theta^{r + 1} = \\underset{\\theta}{\\arg \\max} \\left[ \\sum_{i = 1}^m \\sum_{z = 1}^Z p_{iz} \\ln \\left( p_z e^{- \\Lambda_z (0 , \\tau) } \\prod_{j = 1}^n \\lambda_z (t_{ij}) \\right) \\right]\n",
    "\\end{equation*}\n",
    "paramaeetrid leiame numbriliselt.\n",
    "\n",
    "Järgmised hinnangud segandumistõenäosustele leiame lihtsa aritmeetilise keskmisena pärinemistõenäosustest\n",
    "\\begin{equation*}\n",
    "    p_z^{r + 1} = \\frac{1}{n} \\sum_{i = 1}^m p_{iz}^r\n",
    "\\end{equation*}"
   ]
  },
  {
   "cell_type": "code",
   "execution_count": 8,
   "id": "9cb1d918",
   "metadata": {
    "ExecuteTime": {
     "end_time": "2023-10-29T09:23:44.264304100Z",
     "start_time": "2023-10-29T09:23:44.170512200Z"
    }
   },
   "outputs": [],
   "source": [
    "def maximisation_step(data: pl.DataFrame, weights, mix_probs, orig_probs):\n",
    "    weights_shape = weights.shape\n",
    "    theta = weights.flatten()\n",
    "    \n",
    "    args = (weights_shape, mix_probs, orig_probs, orig_probs.shape, data)\n",
    "    bounds = ((1e-5, np.inf) for _ in theta)\n",
    "    optimize_result = minimize(negative_log_likelihood, theta, args=args, bounds=bounds)\n",
    "    \n",
    "    weights = optimize_result['x'].reshape(weights_shape)\n",
    "    mix_probs = orig_probs.mean(axis=0)\n",
    "    \n",
    "    return weights, mix_probs, optimize_result"
   ]
  },
  {
   "cell_type": "markdown",
   "id": "dbd617ca",
   "metadata": {},
   "source": [
    "EM meetodi iteratsioonisamme kordame kuni kindla sammude arvuni või koondumiseni"
   ]
  },
  {
   "cell_type": "code",
   "execution_count": 9,
   "id": "ece9d5b2",
   "metadata": {
    "ExecuteTime": {
     "end_time": "2023-10-29T09:23:44.311135900Z",
     "start_time": "2023-10-29T09:23:44.186138500Z"
    }
   },
   "outputs": [],
   "source": [
    "def em(data: pl.DataFrame, init_weights, num_series, num_subprocess, max_steps=10, diff_threshold=1e-4, verbose=False):\n",
    "    orig_probs = softmax(np.zeros((num_series, num_subprocess), dtype=np.longdouble))\n",
    "    mixing_probs = np.mean(orig_probs, axis=0)\n",
    "    \n",
    "    step = 0\n",
    "    diff_norm = diff_threshold\n",
    "    while step <= max_steps and diff_norm >= diff_threshold:\n",
    "        orig_probs = expectation_step(data, orig_probs.shape, init_weights)\n",
    "        weights, mixing_probs, _ = maximisation_step(data, init_weights, mixing_probs, orig_probs)\n",
    "        \n",
    "        if verbose:\n",
    "            diff = weights - init_weights\n",
    "            diff_norm = np.linalg.norm(diff, ord=np.inf)\n",
    "            print(f'| step={step} \\t| diff_norm={diff_norm} \\t|')\n",
    "        \n",
    "        init_weights = weights\n",
    "        step += 1\n",
    "        \n",
    "    return init_weights"
   ]
  },
  {
   "cell_type": "code",
   "execution_count": 10,
   "id": "e6236fe3",
   "metadata": {
    "ExecuteTime": {
     "end_time": "2023-10-29T10:46:33.533515300Z",
     "start_time": "2023-10-29T09:23:44.201803800Z"
    }
   },
   "outputs": [
    {
     "name": "stdout",
     "output_type": "stream",
     "text": [
      "| step=0     | diff_norm=9.481979658291463     |\n",
      "| step=1     | diff_norm=1.286737134953992     |\n",
      "| step=2     | diff_norm=1.3922223104686124    |\n",
      "| step=3     | diff_norm=1.8407777504895972    |\n",
      "| step=4     | diff_norm=1.867819928028859     |\n",
      "| step=5     | diff_norm=0.6732408536523401    |\n",
      "| step=6     | diff_norm=0.3086145425968175    |\n",
      "| step=7     | diff_norm=0.2206226686372475    |\n",
      "| step=8     | diff_norm=0.1917263858992117    |\n",
      "| step=9     | diff_norm=0.1736833329680832    |\n",
      "| step=10    | diff_norm=0.2047859252864321    |\n",
      "| step=11    | diff_norm=0.2305067254737253    |\n",
      "| step=12    | diff_norm=0.2700433515478490    |\n",
      "| step=13    | diff_norm=0.2409544197293561    |\n",
      "| step=14    | diff_norm=0.2999073570749032    |\n",
      "| step=15    | diff_norm=0.1990758262442984    |\n"
     ]
    }
   ],
   "source": [
    "initial_weights = uniform.rvs(0, 1, size=(n_processes, n_bases))\n",
    "model_weights = em(df, initial_weights, n_series, n_processes, max_steps=15, verbose=True)"
   ]
  },
  {
   "cell_type": "code",
   "execution_count": 11,
   "id": "8b4ce5bd",
   "metadata": {
    "ExecuteTime": {
     "end_time": "2023-10-29T10:46:34.405393800Z",
     "start_time": "2023-10-29T10:46:33.533515300Z"
    }
   },
   "outputs": [
    {
     "data": {
      "image/png": "[encoded data removed]",
      "text/plain": [
       "<Figure size 640x480 with 1 Axes>"
      ]
     },
     "metadata": {},
     "output_type": "display_data"
    }
   ],
   "source": [
    "fig = plt.figure()\n",
    "ax = fig.add_subplot(projection='3d')\n",
    "\n",
    "for sub_process in range(n_processes):\n",
    "    time = np.linspace(0, 24, 500)\n",
    "    sub_process_rate = [rate(t, model_weights[sub_process]) for t in time]\n",
    "    \n",
    "    ax.plot(time, sub_process_rate, zs=sub_process, zdir='x', color='b', alpha=0.8)\n",
    "\n",
    "ax.set_xlabel('Alamprotsess $(z)$')\n",
    "ax.set_ylabel('Aeg $(t)$')\n",
    "ax.set_zlabel('Intensiivsus $(\\\\lambda_z)$')\n",
    "\n",
    "fig.savefig(f'joonised/mudel_z{n_processes}_k{n_bases}.png', dpi=100)"
   ]
  },
  {
   "cell_type": "markdown",
   "id": "ae3119ef",
   "metadata": {},
   "source": [
    "## Mudeli kasutamine\n",
    "Ennustamaks järgmise sündmuse toimumishetke sündmusreas $\\textbf{t}$, peame kõigepealt nimetatud sündmusrea seostama mudeli mingi alamprotsessiga. Soovitud alamprotsessi $z$ valime suurima tõepära meetodiga\n",
    "\\begin{equation*}\n",
    "    z = \\underset{z \\in \\{ 1 , 2 , \\dots , Z \\} }{\\arg \\max} f_z(\\textbf{t} | \\tau)\n",
    "\\end{equation*}"
   ]
  },
  {
   "cell_type": "code",
   "execution_count": 12,
   "id": "1fd6f290",
   "metadata": {
    "ExecuteTime": {
     "end_time": "2023-10-29T10:46:47.657425100Z",
     "start_time": "2023-10-29T10:46:47.547921200Z"
    }
   },
   "outputs": [],
   "source": [
    "test_df = build_df('andmed/spioonid_kunstlik.csv')\n",
    "test_times = test_df.group_by('m').all().row(by_predicate=(pl.col('m') == 5))[1]\n",
    "\n",
    "sub_process = np.argmax([joint_pdf(test_times, model_weights[sub_process]) for sub_process in range(n_processes)])"
   ]
  },
  {
   "cell_type": "markdown",
   "id": "9dd36b4f",
   "metadata": {},
   "source": [
    "### Aeg järgmise sündmuseni\n",
    "Kui oleme leidnud võimalik sündmusrea tootnud alamprotsessi, ennustame aega järgmise sündmuse toimumiseni $\\eta$ alamprotsessi jaotuse mediaanina\n",
    "\\begin{align*}\n",
    "    F_z^s(\\eta) = 1 - e^{\\Lambda_z(s , s + \\eta)} &= \\frac{1}{2} \\\\\n",
    "    \\Lambda_z(s , s + \\eta) - \\ln 2 &= 0\n",
    "\\end{align*}\n",
    "\n",
    "Tehes asendused ning integreerimse jõuame võrrandini\n",
    "\\begin{equation*}\n",
    "    \\sum_{k = 1}^K \\frac{a_{zk}}{2} \\left[ \\text{erf} \\left( \\frac{s + \\eta - \\mu_k}{\\sqrt{2} \\sigma_k} \\right) - \\text{erf} \\left( \\frac{s - \\mu_k}{\\sqrt{2} \\sigma_k} \\right) \\right] - \\ln 2 = 0\n",
    "\\end{equation*}\n",
    "Kuna kõik muutujad peale $\\eta$ on teada, saame lähendi leida kiiresti kasutades numbrilisi meetodeid."
   ]
  },
  {
   "cell_type": "code",
   "execution_count": 13,
   "id": "9c6694e6",
   "metadata": {
    "ExecuteTime": {
     "end_time": "2023-10-29T10:46:51.248830Z",
     "start_time": "2023-10-29T10:46:51.170640700Z"
    }
   },
   "outputs": [],
   "source": [
    "def cdf_expression(eta, from_t, process_weights, quantile=0.5):\n",
    "    q_log = np.log(1 / quantile)\n",
    "    scaled_weights = process_weights / 2\n",
    "    numerator = from_t - locs\n",
    "    denominator = np.sqrt(2) * scales\n",
    "    return np.sum(scaled_weights * (erf((numerator + eta) / denominator) - erf(numerator / denominator))) - q_log"
   ]
  },
  {
   "cell_type": "code",
   "execution_count": 14,
   "id": "c9b23dff",
   "metadata": {
    "ExecuteTime": {
     "end_time": "2023-10-29T10:46:52.652473800Z",
     "start_time": "2023-10-29T10:46:52.543063100Z"
    }
   },
   "outputs": [
    {
     "name": "stdout",
     "output_type": "stream",
     "text": [
      "praegune aeg: 16.50h\n",
      "ennustatud ooteaeg: 1.18h\n"
     ]
    }
   ],
   "source": [
    "from_time = 16.5 * 60\n",
    "root_result = root(cdf_expression, np.array([0]), args=(from_time, model_weights[sub_process]))\n",
    "wait_time = root_result['x'][0]\n",
    "\n",
    "print(f'praegune aeg: {from_time / 60:.2f}h\\nennustatud ooteaeg: {wait_time / 60:.2f}h')"
   ]
  }
 ],
 "metadata": {
  "kernelspec": {
   "display_name": "Python 3 (ipykernel)",
   "language": "python",
   "name": "python3"
  },
  "language_info": {
   "codemirror_mode": {
    "name": "ipython",
    "version": 3
   },
   "file_extension": ".py",
   "mimetype": "text/x-python",
   "name": "python",
   "nbconvert_exporter": "python",
   "pygments_lexer": "ipython3",
   "version": "3.10.12"
  }
 },
 "nbformat": 4,
 "nbformat_minor": 5
}
